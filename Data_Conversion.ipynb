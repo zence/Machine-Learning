{
 "cells": [
  {
   "cell_type": "code",
   "execution_count": 5,
   "metadata": {
    "collapsed": true
   },
   "outputs": [],
   "source": [
    "import gzip as gz\n",
    "import numpy as np\n",
    "import codecs"
   ]
  },
  {
   "cell_type": "code",
   "execution_count": null,
   "metadata": {
    "collapsed": true
   },
   "outputs": [],
   "source": [
    "header = []\n",
    "rows = ''\n",
    "with gz.open(\"../../../cancerproject/proj_090817/data/\" +\n",
    "          \"GSM1536837_06_01_15_TCGA_24.tumor_Rsubread_TPM.txt.gz\") as in_f:\n",
    "    header = codecs.decode(in_f.readline()).split('\\t')\n",
    "    for line in in_f:\n",
    "        line = codecs.decode(line).split('\\t')\n",
    "        rows += '\\t' + line[0]\n",
    "        \n",
    "print(\"Done reading initial file\")"
   ]
  },
  {
   "cell_type": "code",
   "execution_count": null,
   "metadata": {
    "collapsed": true
   },
   "outputs": [],
   "source": [
    "trans_poser = np.loadtxt(\"../../../cancerproject/proj_090817/data/\" +\n",
    "                         \"GSM1536837_06_01_15_TCGA_24.tumor_Rsubread_TPM.txt.gz\",\n",
    "                         unpack=True, skiprows=1, usecols=range(1, len(header)))\n"
   ]
  },
  {
   "cell_type": "code",
   "execution_count": null,
   "metadata": {
    "collapsed": true
   },
   "outputs": [],
   "source": [
    "\n",
    "np.savetxt(\"../../data/TCGA_TPM.tsv.gz\", trans_poser, header=rows, delimiter=\"\\t\")\n",
    "\n",
    "total_ids = header\n"
   ]
  },
  {
   "cell_type": "code",
   "execution_count": 4,
   "metadata": {},
   "outputs": [],
   "source": [
    "pos_IDs = []\n",
    "neg_IDs = []\n",
    "\n",
    "with open(\"../../data/her2_positive_IDs.tsv\", \"r\") as ids:\n",
    "    pos_IDs = ids.readlines()\n",
    "    \n",
    "with open(\"../../data/her2_negative_IDs.tsv\", \"r\") as ids:\n",
    "    neg_IDs = ids.readlines()\n",
    "    \n",
    "pos_ix = []\n",
    "neg_ix = []\n",
    "    \n",
    "for cur_id in pos_IDs:\n",
    "    pos_ix.append(total_ids.index(cur_id))\n",
    "    \n",
    "for cur_id in neg_IDs:\n",
    "    neg_ix.append(total_ids.index(cur_id))\n",
    "    \n",
    "out_f = open(\"../../data/her2_TPM.tsv\", \"w\")\n",
    "\n",
    "with gz.open(\"../../../cancerproject/proj_090817/data/GSM1536837_06_01_15_TCGA_24.tumor_Rsubread_TPM.txt.gz\") as in_f:\n",
    "    header = codecs.decode(in_f.readline())\n",
    "    out_f.write(header + \"\\ther2_status_by_ihc\")\n",
    "    for line in in_f:\n",
    "        line = codecs.decode(line).split(\"\\t\")\n",
    "        if line[0] in pos_IDs:\n",
    "            line.append('Positive')\n",
    "            out_f.write(\"\\t\".join(line))\n",
    "        elif line[0] in neg_IDs:\n",
    "            line.append('Negative')\n",
    "            out_f.write('\\t'.join(line))\n",
    "        \n",
    "    \n",
    "out_f.close()"
   ]
  },
  {
   "cell_type": "code",
   "execution_count": null,
   "metadata": {},
   "outputs": [],
   "source": []
  }
 ],
 "metadata": {
  "kernelspec": {
   "display_name": "Python 2",
   "language": "python",
   "name": "python2"
  },
  "language_info": {
   "codemirror_mode": {
    "name": "ipython",
    "version": 2
   },
   "file_extension": ".py",
   "mimetype": "text/x-python",
   "name": "python",
   "nbconvert_exporter": "python",
   "pygments_lexer": "ipython2",
   "version": "2.7.6"
  }
 },
 "nbformat": 4,
 "nbformat_minor": 0
}
